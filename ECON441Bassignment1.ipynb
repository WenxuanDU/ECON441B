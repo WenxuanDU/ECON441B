{
  "nbformat": 4,
  "nbformat_minor": 0,
  "metadata": {
    "colab": {
      "provenance": []
    },
    "kernelspec": {
      "name": "python3",
      "display_name": "Python 3"
    },
    "language_info": {
      "name": "python"
    }
  },
  "cells": [
    {
      "cell_type": "code",
      "execution_count": null,
      "metadata": {
        "id": "5xJJht3a8zk4"
      },
      "outputs": [],
      "source": [
        "from google.colab import drive"
      ]
    },
    {
      "cell_type": "code",
      "source": [
        "drive.mount('/content/gdrive/',force_remount=True)"
      ],
      "metadata": {
        "id": "cn_7tPbm83oq"
      },
      "execution_count": null,
      "outputs": []
    },
    {
      "cell_type": "code",
      "source": [
        "import pandas as pd"
      ],
      "metadata": {
        "id": "PcRcFiU0845a"
      },
      "execution_count": null,
      "outputs": []
    },
    {
      "cell_type": "code",
      "source": [
        "df=pd.read_csv(\"/content/gdrive/MyDrive/econ441b/ActiveUser.csv\")"
      ],
      "metadata": {
        "id": "nQtGarDf86Pb"
      },
      "execution_count": null,
      "outputs": []
    },
    {
      "cell_type": "code",
      "source": [
        "import matplotlib.pyplot as plt\n",
        "%matplotlib inline\n",
        "fig = plt.figure(figsize = (20,10))\n",
        "plt.title(\"ActiveUsersInEachCountry\")\n",
        "plt.xlabel(\"Country\")\n",
        "plt.ylabel(\"Number\")\n",
        "x = df[\"country\"]\n",
        "y = df[\"number\"]\n",
        "plt.bar(x,y)"
      ],
      "metadata": {
        "id": "64lLDdpN87xF"
      },
      "execution_count": null,
      "outputs": []
    }
  ]
}